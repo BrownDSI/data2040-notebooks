{
"metadata": {
 "kernelspec": {
  "display_name": "Python 3",
  "language": "python",
  "name": "python3"
 },
 "language_info": {
  "codemirror_mode": {
   "name": "ipython",
   "version": 3
  },
  "file_extension": ".py",
  "mimetype": "text/x-python",
  "name": "python",
  "nbconvert_exporter": "python",
  "pygments_lexer": "ipython3",
  "version": "3.7.2"
 }
},
"nbformat": 4,
"nbformat_minor": 2, 
"cells": [
{
"cell_type": "code",
"execution_count": null,
"metadata": {},
"outputs": [],
"source": [
"import matplotlib.pyplot as plt\n",
"import numpy as np\n",
"\n",
"import tensorflow.keras as keras\n",
"import tensorflow.keras.layers as layers\n",
"import tensorflow.keras.models as models\n",
"\n",
"from tensorflow.keras.datasets import fashion_mnist\n",
"(x_train, y_train), (x_test, y_test) = fashion_mnist.load_data()\n",
"\n",
"image_size = x_train.shape[1]\n",
"x_train = x_train.astype('float32')/255.0\n",
"x_test = x_test.astype('float32')/255.0"]},{
"cell_type": "code",
"execution_count": null,
"metadata": {},
"outputs": [],
"source": [
"model = models.Sequential()\n",
"model.add(layers.SimpleRNN(50, input_shape = (28,28)))\n",
"model.add(layers.Dense(10, activation='softmax'))\n",
"model.compile(optimizer = 'adam',\n",
"              loss = 'sparse_categorical_crossentropy', \n",
"              metrics = ['accuracy'])"]},{
"cell_type": "code",
"execution_count": null,
"metadata": {},
"outputs": [],
"source": [
"model.fit(x_train, y_train, epochs = 5, batch_size = 100)\n",
"model.evaluate(x_test, y_test)"]}]}