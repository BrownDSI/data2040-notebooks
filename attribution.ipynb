{
"metadata": {
 "kernelspec": {
  "display_name": "Python 3",
  "language": "python",
  "name": "python3"
 },
 "language_info": {
  "codemirror_mode": {
   "name": "ipython",
   "version": 3
  },
  "file_extension": ".py",
  "mimetype": "text/x-python",
  "name": "python",
  "nbconvert_exporter": "python",
  "pygments_lexer": "ipython3",
  "version": "3.7.2"
 }
},
"nbformat": 4,
"nbformat_minor": 2, 
"cells": [
{
"cell_type": "code",
"execution_count": null,
"metadata": {},
"outputs": [],
"source": [
"from tensorflow.keras import backend as K\n",
"from tensorflow.keras import applications\n",
"from tensorflow.keras import activations\n",
"from tensorflow.keras import models\n",
"from tensorflow.keras import layers\n",
"\n",
"# for manipulating images\n",
"from PIL import Image \n",
"from PIL import ImageFilter\n",
"\n",
"import numpy as np\n",
"def sigmoid(x, k = 1):\n",
"    return 1/(np.exp(-x*k) + 1)\n",
"\n",
"# Load VGG16 model\n",
"model = applications.VGG16(include_top=True,\n",
"                           weights='imagenet')"]},{
"cell_type": "code",
"execution_count": null,
"metadata": {},
"outputs": [],
"source": [
"last_layer = model.layers[-1]\n",
"last_layer.activation = activations.linear\n",
"model = models.Model(inputs = model.input, outputs = last_layer(model.layers[-2].output))"]},{
"cell_type": "code",
"execution_count": null,
"metadata": {},
"outputs": [],
"source": [
"img = Image.open("dog.jpg").resize((224,224))\n",
"img_array = np.array(img)[np.newaxis,:,:,:]\n",
"\n",
"img_class = np.argmax(model.predict(img_array))\n",
"\n",
"grad = K.gradients(model.layers[-1].output[0,img_class], model.inputs[0])\n",
"grad_func = K.function(model.inputs, grad)"]},{
"cell_type": "code",
"execution_count": null,
"metadata": {},
"outputs": [],
"source": [
"saliency_array = grad_func([img_array])[0][0,...]"]},{
"cell_type": "code",
"execution_count": null,
"metadata": {},
"outputs": [],
"source": [
"saliency_array -= np.min(saliency_array)\n",
"saliency_array /= np.max(saliency_array)\n",
"Image.fromarray((255*saliency_array).astype('uint8'), "RGB")"]}]}