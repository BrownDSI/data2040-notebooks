{
"metadata": {
 "kernelspec": {
  "display_name": "Python 3",
  "language": "python",
  "name": "python3"
 },
 "language_info": {
  "codemirror_mode": {
   "name": "ipython",
   "version": 3
  },
  "file_extension": ".py",
  "mimetype": "text/x-python",
  "name": "python",
  "nbconvert_exporter": "python",
  "pygments_lexer": "ipython3",
  "version": "3.7.2"
 }
},
"nbformat": 4,
"nbformat_minor": 2, 
"cells": [
{
"cell_type": "code",
"execution_count": null,
"metadata": {},
"outputs": [],
"source": [
"import matplotlib.pyplot as plt\n",
"import numpy as np\n",
"from tensorflow.keras import layers\n",
"from tensorflow.keras import models\n",
"\n",
"model = models.Sequential()\n",
"model.add(layers.Conv2D(32, (3, 3), activation='relu', input_shape=(28, 28, 1))) \n",
"model.add(layers.MaxPooling2D((2, 2)))\n",
"model.add(layers.Conv2D(64, (3, 3), activation='relu'))\n",
"model.add(layers.MaxPooling2D((2, 2)))\n",
"model.add(layers.Conv2D(64, (3, 3), activation='relu'))"]},{
"cell_type": "code",
"execution_count": null,
"metadata": {},
"outputs": [],
"source": [
"model.add(layers.Flatten())\n",
"model.add(layers.Dense(64, activation='relu'))\n",
"model.add(layers.Dense(10, activation='softmax'))"]},{
"cell_type": "code",
"execution_count": null,
"metadata": {},
"outputs": [],
"source": [
"from tensorflow.keras.datasets import fashion_mnist\n",
"(train_images, train_labels), (test_images, test_labels) = fashion_mnist.load_data()\n",
"train_images = train_images[:,:,:,np.newaxis]\n",
"test_images = test_images[:,:,:,np.newaxis]"]},{
"cell_type": "code",
"execution_count": null,
"metadata": {},
"outputs": [],
"source": [
"model.compile(optimizer='rmsprop',\n",
"              loss='sparse_categorical_crossentropy',\n",
"              metrics=['accuracy'])\n",
"model.fit(train_images, train_labels, epochs=5, batch_size=64)\n",
"model.evaluate(test_images, test_labels)"]},{
"cell_type": "code",
"execution_count": null,
"metadata": {},
"outputs": [],
"source": [
"layer_outputs = [layer.output for layer in model.layers[:5]]\n",
"activation_model = models.Model(inputs=model.input, outputs=layer_outputs)\n",
"activations = activation_model.predict(train_images[:10])  "]},{
"cell_type": "code",
"execution_count": null,
"metadata": {},
"outputs": [],
"source": [
"def layerimages(image_idx, layer_idx, images_per_row = 8): \n",
"    channel_count = activations[layer_idx].shape[3]\n",
"    r = np.ceil(channel_count/images_per_row)\n",
"    plt.figure(figsize=(12,12*r/images_per_row))\n",
"    for channel_idx in range(channel_count):\n",
"        plt.subplot(r,8,channel_idx+1)\n",
"        plt.grid(False); plt.xticks([]); plt.yticks([])\n",
"        plt.imshow(activations[layer_idx][image_idx,:,:,channel_idx])\n",
"    plt.show()\n",
"\n",
"def all_layers(image_idx):\n",
"    plt.imshow(train_images[image_idx,:,:,0])\n",
"    plt.grid(False); plt.xticks([]); plt.yticks([])\n",
"    for i in range(5):\n",
"        layerimages(image_idx,i)\n",
"    \n",
"all_layers(0)"]}]}