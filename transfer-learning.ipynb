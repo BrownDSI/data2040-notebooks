{
"metadata": {
 "kernelspec": {
  "display_name": "Python 3",
  "language": "python",
  "name": "python3"
 },
 "language_info": {
  "codemirror_mode": {
   "name": "ipython",
   "version": 3
  },
  "file_extension": ".py",
  "mimetype": "text/x-python",
  "name": "python",
  "nbconvert_exporter": "python",
  "pygments_lexer": "ipython3",
  "version": "3.7.2"
 }
},
"nbformat": 4,
"nbformat_minor": 2, 
"cells": [
{
"cell_type": "code",
"execution_count": null,
"metadata": {},
"outputs": [],
"source": [
"from tensorflow.keras.applications import VGG16\n",
"conv_base = VGG16(weights='imagenet',\n",
"                  include_top=False,\n",
"                  input_shape=(56,56,3))"]},{
"cell_type": "code",
"execution_count": null,
"metadata": {},
"outputs": [],
"source": [
"from tensorflow.keras import models\n",
"from tensorflow.keras import layers\n",
"model = models.Sequential()\n",
"model.add(keras.layers.UpSampling2D((2,2)))\n",
"model.add(conv_base)\n",
"model.add(keras.layers.Flatten())\n",
"model.add(layers.Dense(256, activation='relu'))\n",
"model.add(layers.Dense(10, activation='softmax'))"]},{
"cell_type": "code",
"execution_count": null,
"metadata": {},
"outputs": [],
"source": [
"conv_base.trainable = False"]},{
"cell_type": "code",
"execution_count": null,
"metadata": {},
"outputs": [],
"source": [
"model.compile(optimizer='rmsprop',loss='sparse_categorical_crossentropy')\n",
"model.fit(train_images, train_labels, epochs=5, batch_size=64)"]},{
"cell_type": "code",
"execution_count": null,
"metadata": {},
"outputs": [],
"source": [
"model.evaluate(test_images, test_labels)"]}]}