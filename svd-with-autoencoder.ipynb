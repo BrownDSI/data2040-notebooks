{
"metadata": {
 "kernelspec": {
  "display_name": "Python 3",
  "language": "python",
  "name": "python3"
 },
 "language_info": {
  "codemirror_mode": {
   "name": "ipython",
   "version": 3
  },
  "file_extension": ".py",
  "mimetype": "text/x-python",
  "name": "python",
  "nbconvert_exporter": "python",
  "pygments_lexer": "ipython3",
  "version": "3.7.2"
 }
},
"nbformat": 4,
"nbformat_minor": 2, 
"cells": [
{
"cell_type": "code",
"execution_count": null,
"metadata": {},
"outputs": [],
"source": [
"import tensorflow.keras.layers as layers\n",
"import tensorflow.keras.models as models\n",
"import matplotlib.pyplot as plt\n",
"import numpy as np\n",
"import numpy.linalg.norm as norm\n",
"\n",
"np.random.seed(123)\n",
"A = np.random.randn(50,50)\n",
"U, S, Vt = np.linalg.svd(A);\n",
"S[10:] = 0\n",
"A_k  = U @ np.diag(S) @ Vt"]},{
"cell_type": "code",
"execution_count": null,
"metadata": {},
"outputs": [],
"source": [
"svd = models.Sequential()\n",
"svd.add(layers.Dense(10, use_bias = False))\n",
"svd.add(layers.Dense(50, use_bias = False))\n",
"svd.compile(optimizer='sgd', loss = 'mse')\n",
"svd.fit(A, A, epochs = 10000)"]},{
"cell_type": "code",
"execution_count": null,
"metadata": {},
"outputs": [],
"source": [
"plt.matshow(A_k)\n",
"plt.matshow(svd.predict(A))"]},{
"cell_type": "code",
"execution_count": null,
"metadata": {},
"outputs": [],
"source": [
"norm(A_k - svd.predict(A))"]}]}