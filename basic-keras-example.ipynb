{
"metadata": {
 "kernelspec": {
  "display_name": "Python 3",
  "language": "python",
  "name": "python3"
 },
 "language_info": {
  "codemirror_mode": {
   "name": "ipython",
   "version": 3
  },
  "file_extension": ".py",
  "mimetype": "text/x-python",
  "name": "python",
  "nbconvert_exporter": "python",
  "pygments_lexer": "ipython3",
  "version": "3.7.2"
 }
},
"nbformat": 4,
"nbformat_minor": 2, 
"cells": [
{
"cell_type": "code",
"execution_count": null,
"metadata": {},
"outputs": [],
"source": [
"import numpy as np\n",
"n = pow(10,4)\n",
"x_train = np.random.randn(4*n,3)\n",
"y_train = np.column_stack((np.sum(x_train,axis=1),\n",
"                           np.sum(pow(x_train,2),axis=1)))\n",
"x_test = np.random.randn(n,3)\n",
"y_test = np.column_stack((np.sum(x_test,axis=1),\n",
"                          np.sum(pow(x_test,2),axis=1)))"]},{
"cell_type": "code",
"execution_count": null,
"metadata": {},
"outputs": [],
"source": [
"import tensorflow as tf\n",
"model = tf.keras.models.Sequential()\n",
"model.add(tf.keras.layers.Dense(units=2,activation='relu',input_dim=3))\n",
"model.add(tf.keras.layers.Dense(units=4,activation='relu'))\n",
"model.add(tf.keras.layers.Dense(units=2,activation='linear'))"]},{
"cell_type": "code",
"execution_count": null,
"metadata": {},
"outputs": [],
"source": [
"model.compile(loss = 'mean_squared_error',\n",
"              optimizer = 'sgd', # stochastic gradient descent\n",
"              metrics = ['mean_squared_error'])"]},{
"cell_type": "code",
"execution_count": null,
"metadata": {},
"outputs": [],
"source": [
"model.fit(x_train, y_train, epochs = 10, batch_size = 100)"]},{
"cell_type": "code",
"execution_count": null,
"metadata": {},
"outputs": [],
"source": [
"model.evaluate(x_test, y_test)"]},{
"cell_type": "code",
"execution_count": null,
"metadata": {},
"outputs": [],
"source": [
"model.predict(np.expand_dims([1,1,1],0))"]},{
"cell_type": "code",
"execution_count": null,
"metadata": {},
"outputs": [],
"source": [
"model.save('my-model.h5')\n",
"# to reload:\n",
"model = tf.keras.models.load_model('my-model.h5')"]}]}