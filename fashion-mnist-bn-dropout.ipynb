{
"metadata": {
 "kernelspec": {
  "display_name": "Python 3",
  "language": "python",
  "name": "python3"
 },
 "language_info": {
  "codemirror_mode": {
   "name": "ipython",
   "version": 3
  },
  "file_extension": ".py",
  "mimetype": "text/x-python",
  "name": "python",
  "nbconvert_exporter": "python",
  "pygments_lexer": "ipython3",
  "version": "3.7.2"
 }
},
"nbformat": 4,
"nbformat_minor": 2, 
"cells": [
{
"cell_type": "code",
"execution_count": null,
"metadata": {},
"outputs": [],
"source": [
"from tensorflow.keras.callbacks import EarlyStopping\n",
"from tensorflow.keras.models import Sequential\n",
"from tensorflow.keras.layers import Conv2D, BatchNormalization, Activation, \\n",
"                                    MaxPooling2D, Flatten, Dropout, Dense\n",
"from sklearn.model_selection import train_test_split\n",
"\n",
"(train_images, train_labels), (test_images, test_labels) = fashion_mnist.load_data()\n",
"train_images, val_images, train_labels, val_labels = train_test_split(\n",
"    train_images, train_labels, test_size = 0.2, random_state = 42)\n",
"\n",
"train_images = train_images[:,:,:,None]/255.0\n",
"val_images = val_images[:,:,:,None]/255.0\n",
"test_images = test_images[:,:,:,None]/255.0"]},{
"cell_type": "code",
"execution_count": null,
"metadata": {},
"outputs": [],
"source": [
"callbacks = [EarlyStopping(monitor='val_acc', \n",
"                           patience=10,\n",
"                           mode='max',\n",
"                           verbose=1)]"]},{
"cell_type": "code",
"execution_count": null,
"metadata": {},
"outputs": [],
"source": [
"model = Sequential()\n",
"model.add(Conv2D(64, kernel_size=(3,3), padding='same',\n",
"               activation='relu',\n",
"               input_shape=(28,28,1)))\n",
"model.add(BatchNormalization())\n",
"model.add(Dropout(0.25))"]},{
"cell_type": "code",
"execution_count": null,
"metadata": {},
"outputs": [],
"source": [
"model.add(Conv2D(64, kernel_size=(3,3), activation='relu', padding='same'))\n",
"model.add(BatchNormalization())\n",
"model.add(MaxPooling2D())\n",
"model.add(Dropout(0.25))\n",
"\n",
"model.add(Conv2D(64, kernel_size=(3,3), activation='relu', padding='same'))\n",
"model.add(BatchNormalization())\n",
"model.add(MaxPooling2D())\n",
"model.add(Dropout(0.25))"]},{
"cell_type": "code",
"execution_count": null,
"metadata": {},
"outputs": [],
"source": [
"model.add(Flatten()) \n",
"model.add(Dense(500,use_bias=False))\n",
"model.add(BatchNormalization())\n",
"model.add(Activation('relu'))\n",
"model.add(Dropout(0.25))\n",
"\n",
"model.add(Dense(10))\n",
"model.add(Activation('softmax'))"]},{
"cell_type": "code",
"execution_count": null,
"metadata": {},
"outputs": [],
"source": [
"model.compile(loss='sparse_categorical_crossentropy', \n",
"              optimizer='rmsprop', \n",
"              metrics=['accuracy'])\n",
"model.fit(train_images, train_labels,\n",
"          batch_size=128,\n",
"          epochs=100,\n",
"          validation_data=(val_images, val_labels), \n",
"          shuffle=True,\n",
"          callbacks=callbacks)\n",
"model.evaluate(test_images, test_labels)"]}]}