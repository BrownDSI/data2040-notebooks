{
"metadata": {
 "kernelspec": {
  "display_name": "Python 3",
  "language": "python",
  "name": "python3"
 },
 "language_info": {
  "codemirror_mode": {
   "name": "ipython",
   "version": 3
  },
  "file_extension": ".py",
  "mimetype": "text/x-python",
  "name": "python",
  "nbconvert_exporter": "python",
  "pygments_lexer": "ipython3",
  "version": "3.7.2"
 }
},
"nbformat": 4,
"nbformat_minor": 2, 
"cells": [
{
"cell_type": "code",
"execution_count": null,
"metadata": {},
"outputs": [],
"source": [
"import matplotlib.pyplot as plt \n",
"\n",
"from tensorflow.keras import layers\n",
"from tensorflow.keras import models\n",
"\n",
"model = models.Sequential()\n",
"model.add(layers.Flatten(input_shape=(28,28)))\n",
"model.add(layers.Dense(units=784, activation='relu'))\n",
"model.add(layers.Dense(units=32, activation='relu')) # encoded\n",
"model.add(layers.Dense(units=784, activation='sigmoid'))\n",
"model.add(layers.Reshape((28,28))) # decoded\n",
"model.compile(optimizer='adadelta', loss='binary_crossentropy')"]},{
"cell_type": "code",
"execution_count": null,
"metadata": {},
"outputs": [],
"source": [
"from tensorflow.keras.datasets import fashion_mnist\n",
"(x_train, _), (x_test, _) = fashion_mnist.load_data()\n",
"x_train = x_train.astype('float32') / 255.0\n",
"x_test = x_test.astype('float32') / 255.0\n",
"\n",
"model.fit(x_train, x_train, epochs=5, batch_size=128)"]},{
"cell_type": "code",
"execution_count": null,
"metadata": {},
"outputs": [],
"source": [
"decoded_images = model.predict(x_test)\n",
"\n",
"def before_and_after(i):\n",
"    plt.subplot(2,1,1)\n",
"    plt.imshow(x_test[i])\n",
"    plt.subplot(2,1,2)\n",
"    plt.imshow(decoded_images[i])\n",
"    plt.show()\n",
"\n",
"for i in range(10):\n",
"    before_and_after(i)"]}]}