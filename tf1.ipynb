{
"metadata": {
 "kernelspec": {
  "display_name": "Python 3",
  "language": "python",
  "name": "python3"
 },
 "language_info": {
  "codemirror_mode": {
   "name": "ipython",
   "version": 3
  },
  "file_extension": ".py",
  "mimetype": "text/x-python",
  "name": "python",
  "nbconvert_exporter": "python",
  "pygments_lexer": "ipython3",
  "version": "3.7.2"
 }
},
"nbformat": 4,
"nbformat_minor": 2, 
"cells": [
{
"cell_type": "code",
"execution_count": null,
"metadata": {},
"outputs": [],
"source": [
"import tensorflow as tf\n",
"import numpy as np\n",
"x = tf.placeholder(tf.float32,shape=(20,1))\n",
"A = tf.get_variable(initializer=tf.ones(shape=(20,20)), name='A')\n",
"b = tf.get_variable(initializer=tf.ones(shape=(20,1)), name='b') \n",
"output = tf.add(tf.matmul(A,x), b)\n",
"init = tf.global_variables_initializer()\n",
"with tf.Session() as sess:\n",
"    sess.run(init)\n",
"    y = sess.run(output, {x: np.ones((20,1))})"]}]}