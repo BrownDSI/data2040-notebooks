{
"metadata": {
 "kernelspec": {
  "display_name": "Python 3",
  "language": "python",
  "name": "python3"
 },
 "language_info": {
  "codemirror_mode": {
   "name": "ipython",
   "version": 3
  },
  "file_extension": ".py",
  "mimetype": "text/x-python",
  "name": "python",
  "nbconvert_exporter": "python",
  "pygments_lexer": "ipython3",
  "version": "3.7.2"
 }
},
"nbformat": 4,
"nbformat_minor": 2, 
"cells": [
{
"cell_type": "code",
"execution_count": null,
"metadata": {},
"outputs": [],
"source": [
"!pip install tensorflow==2.0.0-alpha0\n",
"import tensorflow as tf\n",
"import numpy as np\n",
"A = tf.Variable(tf.ones(shape=(20,20)), name='A')\n",
"b = tf.Variable(tf.ones(shape=(20,1)), name='b')\n",
"\n",
"@tf.function\n",
"def L(x):\n",
"    return A @ x + b\n",
"\n",
"y = L(np.ones((20,1),dtype=np.float32))"]}]}