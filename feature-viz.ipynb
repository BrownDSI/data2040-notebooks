{
"metadata": {
 "kernelspec": {
  "display_name": "Python 3",
  "language": "python",
  "name": "python3"
 },
 "language_info": {
  "codemirror_mode": {
   "name": "ipython",
   "version": 3
  },
  "file_extension": ".py",
  "mimetype": "text/x-python",
  "name": "python",
  "nbconvert_exporter": "python",
  "pygments_lexer": "ipython3",
  "version": "3.7.2"
 }
},
"nbformat": 4,
"nbformat_minor": 2, 
"cells": [
{
"cell_type": "code",
"execution_count": null,
"metadata": {},
"outputs": [],
"source": [
"from tensorflow.keras import applications\n",
"import tensorflow.keras.backend as K\n",
"\n",
"model = applications.VGG16(include_top=False,weights='imagenet')\n",
"layer_dict = dict([(layer.name, layer) for layer in model.layers])"]},{
"cell_type": "code",
"execution_count": null,
"metadata": {},
"outputs": [],
"source": [
"input_img = model.inputs[0]\n",
"layer_output = layer_dict['block3conv3'].output\n",
"loss = K.mean(layer_output[:, :, :, 0]) # 0 is the filter index\n",
"grads = K.gradients(loss, input_img)[0]\n",
"grads /= (K.sqrt(K.mean(K.square(grads))) + 1e-5) # normalize gradient\n",
"iterate = K.function([input_img], [loss, grads]) # create a function"]},{
"cell_type": "code",
"execution_count": null,
"metadata": {},
"outputs": [],
"source": [
"input_img_data = np.random.random((1, 412, 412, 3)) * 20 + 128.\n",
"\n",
"for i in range(80):\n",
"    loss_value, grads_value = iterate([input_img_data])\n",
"    input_img_data += grads_value * step"]}]}