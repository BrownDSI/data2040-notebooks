{
"metadata": {
 "kernelspec": {
  "display_name": "Python 3",
  "language": "python",
  "name": "python3"
 },
 "language_info": {
  "codemirror_mode": {
   "name": "ipython",
   "version": 3
  },
  "file_extension": ".py",
  "mimetype": "text/x-python",
  "name": "python",
  "nbconvert_exporter": "python",
  "pygments_lexer": "ipython3",
  "version": "3.7.2"
 }
},
"nbformat": 4,
"nbformat_minor": 2, 
"cells": [
{
"cell_type": "code",
"execution_count": null,
"metadata": {},
"outputs": [],
"source": [
"import cvxpy as cp\n",
"x = cp.Variable(n) # create a symbolic vector of length n\n",
"objective = cp.Minimize(cp.quad_form(x, Q) + A*x) # quad_form(x,Q) means x'Qx\n",
"constraints = [x >= 0] # a list of symbolic equations/inequalities\n",
"problem = cp.Problem(objective, constraints)\n",
"problem.solve()\n",
"x.value # solving assigns a variable's optimizing value to its value attribute"]}]}